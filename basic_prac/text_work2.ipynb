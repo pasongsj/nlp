{
 "cells": [
  {
   "cell_type": "code",
   "execution_count": 2,
   "id": "cdf2955f",
   "metadata": {},
   "outputs": [],
   "source": [
    "myfile = open('test.txt')"
   ]
  },
  {
   "cell_type": "code",
   "execution_count": 3,
   "id": "37132808",
   "metadata": {},
   "outputs": [
    {
     "data": {
      "text/plain": [
       "'C:\\\\Users\\\\LEE\\\\Documents\\\\NLP\\\\nlp'"
      ]
     },
     "execution_count": 3,
     "metadata": {},
     "output_type": "execute_result"
    }
   ],
   "source": [
    "pwd"
   ]
  },
  {
   "cell_type": "code",
   "execution_count": 4,
   "id": "5f658a92",
   "metadata": {},
   "outputs": [
    {
     "data": {
      "text/plain": [
       "<_io.TextIOWrapper name='test.txt' mode='r' encoding='cp949'>"
      ]
     },
     "execution_count": 4,
     "metadata": {},
     "output_type": "execute_result"
    }
   ],
   "source": [
    "myfile"
   ]
  },
  {
   "cell_type": "code",
   "execution_count": 5,
   "id": "8a4dc804",
   "metadata": {},
   "outputs": [
    {
     "data": {
      "text/plain": [
       "'This is a new first line\\nThis line is being appended to test.txt\\nAnd another line here.\\nThis is more text being appended to test.txt\\nAnd another line here.'"
      ]
     },
     "execution_count": 5,
     "metadata": {},
     "output_type": "execute_result"
    }
   ],
   "source": [
    "myfile.read()"
   ]
  },
  {
   "cell_type": "code",
   "execution_count": 6,
   "id": "4dadec6a",
   "metadata": {},
   "outputs": [
    {
     "data": {
      "text/plain": [
       "''"
      ]
     },
     "execution_count": 6,
     "metadata": {},
     "output_type": "execute_result"
    }
   ],
   "source": [
    "myfile.read()"
   ]
  },
  {
   "cell_type": "code",
   "execution_count": 9,
   "id": "d4fb63b6",
   "metadata": {},
   "outputs": [
    {
     "data": {
      "text/plain": [
       "0"
      ]
     },
     "execution_count": 9,
     "metadata": {},
     "output_type": "execute_result"
    }
   ],
   "source": [
    "myfile.seek(0)"
   ]
  },
  {
   "cell_type": "code",
   "execution_count": 10,
   "id": "7c07d6c6",
   "metadata": {},
   "outputs": [],
   "source": [
    "content = myfile.read()"
   ]
  },
  {
   "cell_type": "code",
   "execution_count": 11,
   "id": "e4b2a4cd",
   "metadata": {},
   "outputs": [
    {
     "data": {
      "text/plain": [
       "'This is a new first line\\nThis line is being appended to test.txt\\nAnd another line here.\\nThis is more text being appended to test.txt\\nAnd another line here.'"
      ]
     },
     "execution_count": 11,
     "metadata": {},
     "output_type": "execute_result"
    }
   ],
   "source": [
    "content"
   ]
  },
  {
   "cell_type": "code",
   "execution_count": 12,
   "id": "a4f261bc",
   "metadata": {},
   "outputs": [],
   "source": [
    "myfile.close()"
   ]
  },
  {
   "cell_type": "code",
   "execution_count": 14,
   "id": "6ceeb62b",
   "metadata": {},
   "outputs": [],
   "source": [
    "myfile = open('test.txt','w+')"
   ]
  },
  {
   "cell_type": "code",
   "execution_count": 15,
   "id": "0f27200f",
   "metadata": {},
   "outputs": [
    {
     "data": {
      "text/plain": [
       "''"
      ]
     },
     "execution_count": 15,
     "metadata": {},
     "output_type": "execute_result"
    }
   ],
   "source": [
    "myfile.read()"
   ]
  },
  {
   "cell_type": "code",
   "execution_count": 16,
   "id": "7d10d0fd",
   "metadata": {},
   "outputs": [
    {
     "data": {
      "text/plain": [
       "17"
      ]
     },
     "execution_count": 16,
     "metadata": {},
     "output_type": "execute_result"
    }
   ],
   "source": [
    "myfile.write('MY BRAND NEW TEXT')"
   ]
  },
  {
   "cell_type": "code",
   "execution_count": 17,
   "id": "b92c86ea",
   "metadata": {},
   "outputs": [
    {
     "data": {
      "text/plain": [
       "0"
      ]
     },
     "execution_count": 17,
     "metadata": {},
     "output_type": "execute_result"
    }
   ],
   "source": [
    "myfile.seek(0)"
   ]
  },
  {
   "cell_type": "code",
   "execution_count": 18,
   "id": "83aa78d6",
   "metadata": {},
   "outputs": [
    {
     "data": {
      "text/plain": [
       "'MY BRAND NEW TEXT'"
      ]
     },
     "execution_count": 18,
     "metadata": {},
     "output_type": "execute_result"
    }
   ],
   "source": [
    "myfile.read()"
   ]
  },
  {
   "cell_type": "code",
   "execution_count": 19,
   "id": "2fee9f14",
   "metadata": {},
   "outputs": [],
   "source": [
    "myfile.close()"
   ]
  },
  {
   "cell_type": "code",
   "execution_count": 20,
   "id": "19ab3607",
   "metadata": {},
   "outputs": [],
   "source": [
    "myfile = open('test.txt','a+')"
   ]
  },
  {
   "cell_type": "code",
   "execution_count": 21,
   "id": "ac28f22a",
   "metadata": {},
   "outputs": [
    {
     "data": {
      "text/plain": [
       "27"
      ]
     },
     "execution_count": 21,
     "metadata": {},
     "output_type": "execute_result"
    }
   ],
   "source": [
    "myfile.write(\"MY FIRST LINE IN A+ OPENING\")"
   ]
  },
  {
   "cell_type": "code",
   "execution_count": 23,
   "id": "d5732e73",
   "metadata": {},
   "outputs": [],
   "source": [
    "myfile.close()"
   ]
  },
  {
   "cell_type": "code",
   "execution_count": null,
   "id": "5dcb7fc6",
   "metadata": {},
   "outputs": [],
   "source": []
  }
 ],
 "metadata": {
  "kernelspec": {
   "display_name": "Python 3 (ipykernel)",
   "language": "python",
   "name": "python3"
  },
  "language_info": {
   "codemirror_mode": {
    "name": "ipython",
    "version": 3
   },
   "file_extension": ".py",
   "mimetype": "text/x-python",
   "name": "python",
   "nbconvert_exporter": "python",
   "pygments_lexer": "ipython3",
   "version": "3.7.11"
  }
 },
 "nbformat": 4,
 "nbformat_minor": 5
}
